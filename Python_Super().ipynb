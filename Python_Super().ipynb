{
  "nbformat": 4,
  "nbformat_minor": 0,
  "metadata": {
    "colab": {
      "name": "Python Super()",
      "version": "0.3.2",
      "provenance": [],
      "collapsed_sections": []
    },
    "kernelspec": {
      "name": "python3",
      "display_name": "Python 3"
    }
  },
  "cells": [
    {
      "metadata": {
        "id": "nERdGR-k9LgY",
        "colab_type": "code",
        "colab": {}
      },
      "cell_type": "code",
      "source": [
        "# super() is a built-in function\n",
        "# it allows you to delegate method calls to other, delegate, classes without referring to those classes by name\n",
        "# you can change a delegate class without having to change the super() call"
      ],
      "execution_count": 0,
      "outputs": []
    },
    {
      "metadata": {
        "id": "hxPLE7PF9LUB",
        "colab_type": "code",
        "colab": {}
      },
      "cell_type": "code",
      "source": [
        "# super() example\n",
        "# define base class\n",
        "class fourTimes:\n",
        "  \n",
        "  # define function quadruple\n",
        "  def quadruple(self, int1):\n",
        "    \n",
        "    quad = int1 * 4\n",
        "    \n",
        "    return quad"
      ],
      "execution_count": 0,
      "outputs": []
    },
    {
      "metadata": {
        "id": "EhWzLJ6E9LCP",
        "colab_type": "code",
        "colab": {}
      },
      "cell_type": "code",
      "source": [
        "# define derived class\n",
        "class twoTimes(fourTimes):\n",
        "  \n",
        "  # define double function with call to super()\n",
        "  def double(self, int2):\n",
        "    \n",
        "    # super() delegates quadruple call to base class fourTimes\n",
        "    self.dou = super().quadruple(int2) / 2"
      ],
      "execution_count": 0,
      "outputs": []
    },
    {
      "metadata": {
        "id": "qFHLCB4cZhlz",
        "colab_type": "code",
        "outputId": "833db443-8d64-43a4-802a-0818c1136649",
        "colab": {
          "base_uri": "https://localhost:8080/",
          "height": 34
        }
      },
      "cell_type": "code",
      "source": [
        "# twoTimes class instantiation\n",
        "object1 = twoTimes()\n",
        "# call object1 double method\n",
        "object1.double(30)\n",
        "print(object1.dou)"
      ],
      "execution_count": 5,
      "outputs": [
        {
          "output_type": "stream",
          "text": [
            "60.0\n"
          ],
          "name": "stdout"
        }
      ]
    },
    {
      "metadata": {
        "id": "3oA5B8ka6-O6",
        "colab_type": "code",
        "colab": {}
      },
      "cell_type": "code",
      "source": [
        "# __bases__ example\n",
        "# define class fraud risk\n",
        "class fraudRisk:\n",
        "  # define probFraud method\n",
        "  def probFraud(self, anomalyFlag, FraudProb):\n",
        "    self.probFraud = anomalyFlag * FraudProb"
      ],
      "execution_count": 0,
      "outputs": []
    },
    {
      "metadata": {
        "id": "575fvUR56-A5",
        "colab_type": "code",
        "colab": {}
      },
      "cell_type": "code",
      "source": [
        "# define credit risk class\n",
        "class creditRisk:\n",
        "  # define creditRisk method\n",
        "  def creditRisk(self, probDefault, probSomethingElse):\n",
        "    self.credRisk = probDefault * probSomethingElse"
      ],
      "execution_count": 0,
      "outputs": []
    },
    {
      "metadata": {
        "id": "xCkatflW69xe",
        "colab_type": "code",
        "colab": {}
      },
      "cell_type": "code",
      "source": [
        "# define derived class\n",
        "class activeRisks(fraudRisk, creditRisk):\n",
        "  # define activeRisks method\n",
        "  def activeRisks(self):\n",
        "    self.actRisks = 0\n",
        "    if self.probFraud > 0.5:\n",
        "      self.actRisks += 1\n",
        "    if self.credRisk > 0.5:\n",
        "      self.actRisks += 1"
      ],
      "execution_count": 0,
      "outputs": []
    },
    {
      "metadata": {
        "id": "NNR6QLrH69VZ",
        "colab_type": "code",
        "colab": {
          "base_uri": "https://localhost:8080/",
          "height": 68
        },
        "outputId": "555570d1-6430-45f9-f76b-da35eea41427"
      },
      "cell_type": "code",
      "source": [
        "# Check bases attribute of classes created above\n",
        "print(fraudRisk.__bases__)\n",
        "print(creditRisk.__bases__)\n",
        "print(activeRisks.__bases__)"
      ],
      "execution_count": 9,
      "outputs": [
        {
          "output_type": "stream",
          "text": [
            "(<class 'object'>,)\n",
            "(<class 'object'>,)\n",
            "(<class '__main__.fraudRisk'>, <class '__main__.creditRisk'>)\n"
          ],
          "name": "stdout"
        }
      ]
    },
    {
      "metadata": {
        "id": "1c79JjL4perO",
        "colab_type": "code",
        "colab": {}
      },
      "cell_type": "code",
      "source": [
        "# note, all classes in Python are derived from a special top-level parent class called Object\n",
        "# As with Java, Python lingo often refers to the parent class as a superclass. The class that's derived from the superclass is called the subclass\n",
        "# In python 3, all classes automatically inherit from object"
      ],
      "execution_count": 0,
      "outputs": []
    },
    {
      "metadata": {
        "id": "mKt44G2p69iY",
        "colab_type": "code",
        "colab": {}
      },
      "cell_type": "code",
      "source": [
        "# fraudRisk class instantiation\n",
        "transaction = fraudRisk()\n",
        "\n",
        "# creditRisk class instantiation\n",
        "loan = creditRisk()\n",
        "\n",
        "# activeRisks class instantiation\n",
        "customer1 = activeRisks()"
      ],
      "execution_count": 0,
      "outputs": []
    },
    {
      "metadata": {
        "id": "ZwHWcNPW69It",
        "colab_type": "code",
        "colab": {
          "base_uri": "https://localhost:8080/",
          "height": 34
        },
        "outputId": "e2d04e79-07f0-40f5-bf68-965b33cc759b"
      },
      "cell_type": "code",
      "source": [
        "customer1.probFraud(1, 0.75)\n",
        "customer1.probFraud"
      ],
      "execution_count": 12,
      "outputs": [
        {
          "output_type": "execute_result",
          "data": {
            "text/plain": [
              "0.75"
            ]
          },
          "metadata": {
            "tags": []
          },
          "execution_count": 12
        }
      ]
    },
    {
      "metadata": {
        "id": "GYN8LC2Va4Xl",
        "colab_type": "code",
        "outputId": "9d6e641c-0fb8-4b67-e7ed-f69b699ea8d9",
        "colab": {
          "base_uri": "https://localhost:8080/",
          "height": 34
        }
      },
      "cell_type": "code",
      "source": [
        "# method resolution order attribute\n",
        "print(activeRisks.__mro__)\n",
        "# shows the order of class search when calling a method"
      ],
      "execution_count": 13,
      "outputs": [
        {
          "output_type": "stream",
          "text": [
            "(<class '__main__.activeRisks'>, <class '__main__.fraudRisk'>, <class '__main__.creditRisk'>, <class 'object'>)\n"
          ],
          "name": "stdout"
        }
      ]
    },
    {
      "metadata": {
        "id": "t3yCisxnkkOy",
        "colab_type": "code",
        "colab": {}
      },
      "cell_type": "code",
      "source": [
        "# If our goal is to create a subclass with an MRO to our liking, we need to know how it is calculated.\n",
        "# The basics are simple. The sequence includes the class, its base classes, and the base classes of those bases\n",
        "# and so on until reaching object which is the root class of all classes."
      ],
      "execution_count": 0,
      "outputs": []
    }
  ]
}
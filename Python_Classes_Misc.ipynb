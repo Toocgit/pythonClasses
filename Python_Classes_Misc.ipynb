{
  "nbformat": 4,
  "nbformat_minor": 0,
  "metadata": {
    "colab": {
      "name": "Python Classes Misc",
      "version": "0.3.2",
      "provenance": [],
      "collapsed_sections": []
    },
    "kernelspec": {
      "name": "python3",
      "display_name": "Python 3"
    }
  },
  "cells": [
    {
      "metadata": {
        "id": "2UeCrV9Q3dkA",
        "colab_type": "code",
        "colab": {}
      },
      "cell_type": "code",
      "source": [
        "import numpy as np"
      ],
      "execution_count": 0,
      "outputs": []
    },
    {
      "metadata": {
        "id": "-vmWmMNfiGKN",
        "colab_type": "code",
        "colab": {}
      },
      "cell_type": "code",
      "source": [
        "# Define a class\n",
        "class someClass:\n",
        "  i = 100"
      ],
      "execution_count": 0,
      "outputs": []
    },
    {
      "metadata": {
        "id": "gSIbYKjm2I_H",
        "colab_type": "code",
        "outputId": "2e5c4e60-8951-49c4-f9b1-421688699d12",
        "colab": {
          "base_uri": "https://localhost:8080/",
          "height": 34
        }
      },
      "cell_type": "code",
      "source": [
        "# Class instantiation, create an instance of someClass (an object) and assign it to the variable test1\n",
        "test1 = someClass()\n",
        "# Object attribute reference\n",
        "test1.i"
      ],
      "execution_count": 28,
      "outputs": [
        {
          "output_type": "execute_result",
          "data": {
            "text/plain": [
              "100"
            ]
          },
          "metadata": {
            "tags": []
          },
          "execution_count": 28
        }
      ]
    },
    {
      "metadata": {
        "id": "gTo_V1w0m1xh",
        "colab_type": "code",
        "colab": {}
      },
      "cell_type": "code",
      "source": [
        "# Classes may include an __init__ method, which gets automatically called upon class instantiation\n",
        "# Arguments passed during class instantiation will go to __init__\n",
        "# Define a class with __init__ method\n",
        "class Addition:\n",
        "  \n",
        "  # __init__ method adds three arguments together\n",
        "  def __init__(self, operandA, operandB, operandC):\n",
        "    self.d = operandA + operandB + operandC"
      ],
      "execution_count": 0,
      "outputs": []
    },
    {
      "metadata": {
        "id": "GLX_hxfL2fqp",
        "colab_type": "code",
        "outputId": "0e894e29-f910-40a7-ec35-0ad6234d1e45",
        "colab": {
          "base_uri": "https://localhost:8080/",
          "height": 34
        }
      },
      "cell_type": "code",
      "source": [
        "# Create object test2 (class instantiation)\n",
        "test2 = Addition(500, 50, 5)\n",
        "# Object attribute reference\n",
        "test2.d"
      ],
      "execution_count": 30,
      "outputs": [
        {
          "output_type": "execute_result",
          "data": {
            "text/plain": [
              "555"
            ]
          },
          "metadata": {
            "tags": []
          },
          "execution_count": 30
        }
      ]
    },
    {
      "metadata": {
        "id": "M5HNIhJmu0sw",
        "colab_type": "code",
        "colab": {}
      },
      "cell_type": "code",
      "source": [
        "# Note, the first argument of every class method, including __init__,\n",
        "# is a reference to the current instance of the class. By convention, this argument is always named self."
      ],
      "execution_count": 0,
      "outputs": []
    },
    {
      "metadata": {
        "id": "M8RD5pBJ1ObP",
        "colab_type": "code",
        "colab": {}
      },
      "cell_type": "code",
      "source": [
        "# Class variable versus instance variable\n",
        "class sigmoid:\n",
        "  \n",
        "  # Class variable which is set for all class instances\n",
        "  activationFunction = 'sigmoid'\n",
        "  \n",
        "  def __init__(self, w, x, b):\n",
        "    # Instance variable, set for specific class instance\n",
        "    self.z = (np.dot(x, w.T) + b)"
      ],
      "execution_count": 0,
      "outputs": []
    },
    {
      "metadata": {
        "id": "8s4nu9z63fdr",
        "colab_type": "code",
        "outputId": "a130a83c-4142-4e2b-eb9d-9eb2bf12c8d8",
        "colab": {
          "base_uri": "https://localhost:8080/",
          "height": 34
        }
      },
      "cell_type": "code",
      "source": [
        "# Create ndarray of features\n",
        "x = np.array([[15, 20, 30], [15, 20, 30]])\n",
        "print(type(x), x.shape, x.ndim)"
      ],
      "execution_count": 33,
      "outputs": [
        {
          "output_type": "stream",
          "text": [
            "<class 'numpy.ndarray'> (2, 3) 2\n"
          ],
          "name": "stdout"
        }
      ]
    },
    {
      "metadata": {
        "id": "X_yykdbE6fgm",
        "colab_type": "code",
        "outputId": "c60820d7-4c65-4704-d7e6-b7e326762b32",
        "colab": {
          "base_uri": "https://localhost:8080/",
          "height": 34
        }
      },
      "cell_type": "code",
      "source": [
        "# Create ndarray of weights\n",
        "w = np.array([[2, 3, 4]])\n",
        "print(type(w), w.shape, w.T.shape)"
      ],
      "execution_count": 34,
      "outputs": [
        {
          "output_type": "stream",
          "text": [
            "<class 'numpy.ndarray'> (1, 3) (3, 1)\n"
          ],
          "name": "stdout"
        }
      ]
    },
    {
      "metadata": {
        "id": "Z22SM8is7GdA",
        "colab_type": "code",
        "colab": {}
      },
      "cell_type": "code",
      "source": [
        "# Set b to scalar value\n",
        "b = 5"
      ],
      "execution_count": 0,
      "outputs": []
    },
    {
      "metadata": {
        "id": "m28AnByH7mUt",
        "colab_type": "code",
        "colab": {}
      },
      "cell_type": "code",
      "source": [
        "# Create a second set of arguments\n",
        "x2 = np.array([[1]])\n",
        "w2 = np.array([[1]])\n",
        "b2 = 0"
      ],
      "execution_count": 0,
      "outputs": []
    },
    {
      "metadata": {
        "id": "RAWpSceR7Wx8",
        "colab_type": "code",
        "colab": {}
      },
      "cell_type": "code",
      "source": [
        "# Class instantiation\n",
        "test3 = sigmoid(w, x, b)\n",
        "test4 = sigmoid(w2, x2, b2)"
      ],
      "execution_count": 0,
      "outputs": []
    },
    {
      "metadata": {
        "id": "u7hq7a-S7gQZ",
        "colab_type": "code",
        "outputId": "c71a8978-379f-495a-e790-c8c7c828c275",
        "colab": {
          "base_uri": "https://localhost:8080/",
          "height": 51
        }
      },
      "cell_type": "code",
      "source": [
        "# Check separate class instances have same class variable value\n",
        "print(test3.activationFunction)\n",
        "print(test4.activationFunction)"
      ],
      "execution_count": 38,
      "outputs": [
        {
          "output_type": "stream",
          "text": [
            "sigmoid\n",
            "sigmoid\n"
          ],
          "name": "stdout"
        }
      ]
    },
    {
      "metadata": {
        "id": "XpznDvA1RvT4",
        "colab_type": "code",
        "outputId": "3973b262-566b-4491-f11e-2222cd27ccd6",
        "colab": {
          "base_uri": "https://localhost:8080/",
          "height": 51
        }
      },
      "cell_type": "code",
      "source": [
        "# Change class variable for one class instance\n",
        "test3.activationFunction = \"RELU\"\n",
        "# Check different class variable value for different class instances\n",
        "print(test3.activationFunction)\n",
        "print(test4.activationFunction)"
      ],
      "execution_count": 39,
      "outputs": [
        {
          "output_type": "stream",
          "text": [
            "RELU\n",
            "sigmoid\n"
          ],
          "name": "stdout"
        }
      ]
    },
    {
      "metadata": {
        "id": "SQy_463c7-JZ",
        "colab_type": "code",
        "outputId": "ec5e3c95-dfd2-4964-e7ce-26d004a6e485",
        "colab": {
          "base_uri": "https://localhost:8080/",
          "height": 68
        }
      },
      "cell_type": "code",
      "source": [
        "# Check instance variable values are different\n",
        "print(test3.z, test3.z.shape)\n",
        "print(test4.z, test4.z.shape)"
      ],
      "execution_count": 40,
      "outputs": [
        {
          "output_type": "stream",
          "text": [
            "[[215]\n",
            " [215]] (2, 1)\n",
            "[[1]] (1, 1)\n"
          ],
          "name": "stdout"
        }
      ]
    },
    {
      "metadata": {
        "id": "4hJ7UjPcSzBa",
        "colab_type": "code",
        "colab": {}
      },
      "cell_type": "code",
      "source": [
        "# Class inheritance example\n",
        "# Define base class\n",
        "class baseClass1:\n",
        "  \n",
        "  # Define __init__ function\n",
        "  def __init__(self, var1, var2, var3):\n",
        "    # Create instance variable\n",
        "    self.product = var1 * var2 * var3\n",
        "    "
      ],
      "execution_count": 0,
      "outputs": []
    },
    {
      "metadata": {
        "id": "20P1Bz2c8C0p",
        "colab_type": "code",
        "colab": {}
      },
      "cell_type": "code",
      "source": [
        "# Define derived class and pass baseClass1 as the argument\n",
        "class derivedClass1(baseClass1):\n",
        "  \n",
        "  def double(self):\n",
        "    # Create instance variable\n",
        "    self.double = self.product * 2\n",
        "    \n",
        "    # Return the object that the method was called from (necessary for method chaining)\n",
        "    return self"
      ],
      "execution_count": 0,
      "outputs": []
    },
    {
      "metadata": {
        "id": "ZoalmBHaXWYi",
        "colab_type": "code",
        "colab": {}
      },
      "cell_type": "code",
      "source": [
        "# Define second derived class and pass derivedClass1 as the argument\n",
        "class derivedClass2(derivedClass1):\n",
        "  \n",
        "  def triple(self):\n",
        "    # Create instance variable\n",
        "    triple = self.double * 3\n",
        "    \n",
        "    return triple"
      ],
      "execution_count": 0,
      "outputs": []
    },
    {
      "metadata": {
        "id": "Odc2FOUHXlO2",
        "colab_type": "code",
        "outputId": "d798c014-e9fc-437e-e1a7-40cf6728a09f",
        "colab": {
          "base_uri": "https://localhost:8080/",
          "height": 34
        }
      },
      "cell_type": "code",
      "source": [
        "# baseClass1 instantiation\n",
        "object1 = baseClass1(3, 100, 4)\n",
        "# Check product variable value\n",
        "object1.product"
      ],
      "execution_count": 44,
      "outputs": [
        {
          "output_type": "execute_result",
          "data": {
            "text/plain": [
              "1200"
            ]
          },
          "metadata": {
            "tags": []
          },
          "execution_count": 44
        }
      ]
    },
    {
      "metadata": {
        "id": "mwg85GhHX7rj",
        "colab_type": "code",
        "outputId": "267b0167-6856-4d48-92aa-b817462e7e88",
        "colab": {
          "base_uri": "https://localhost:8080/",
          "height": 34
        }
      },
      "cell_type": "code",
      "source": [
        "# derivedClass1 instantiation\n",
        "# The arguments passed to derivedClass1 will go to the __init__ of baseClass1 because there is no __init__ for derivedClass1\n",
        "# Attribute references are resolved: derivedClass1 namespace is searched first and then baseClass1 namespace\n",
        "object2 = derivedClass1(5, 203, 10)\n",
        "# Check product variable value\n",
        "object2.product"
      ],
      "execution_count": 45,
      "outputs": [
        {
          "output_type": "execute_result",
          "data": {
            "text/plain": [
              "10150"
            ]
          },
          "metadata": {
            "tags": []
          },
          "execution_count": 45
        }
      ]
    },
    {
      "metadata": {
        "id": "pB9T31KOYFRz",
        "colab_type": "code",
        "outputId": "29c081a0-1a29-4e8e-dac9-c09e3bd63cbd",
        "colab": {
          "base_uri": "https://localhost:8080/",
          "height": 34
        }
      },
      "cell_type": "code",
      "source": [
        "# Call object2 double method\n",
        "object2.double()\n",
        "# Check object2 double variable value\n",
        "object2.double"
      ],
      "execution_count": 46,
      "outputs": [
        {
          "output_type": "execute_result",
          "data": {
            "text/plain": [
              "20300"
            ]
          },
          "metadata": {
            "tags": []
          },
          "execution_count": 46
        }
      ]
    },
    {
      "metadata": {
        "id": "Cpq5a-VzYhcQ",
        "colab_type": "code",
        "outputId": "0f55780b-54a0-4905-b0e0-c270064b532e",
        "colab": {
          "base_uri": "https://localhost:8080/",
          "height": 34
        }
      },
      "cell_type": "code",
      "source": [
        "# derivedClass2 instantiation\n",
        "object3 = derivedClass2(2, 2, 4)\n",
        "# Check product variable value\n",
        "object3.product"
      ],
      "execution_count": 47,
      "outputs": [
        {
          "output_type": "execute_result",
          "data": {
            "text/plain": [
              "16"
            ]
          },
          "metadata": {
            "tags": []
          },
          "execution_count": 47
        }
      ]
    },
    {
      "metadata": {
        "id": "4eG5YcAScANI",
        "colab_type": "code",
        "outputId": "bb68500e-6ea7-44e9-8f5e-5030884a8b44",
        "colab": {
          "base_uri": "https://localhost:8080/",
          "height": 34
        }
      },
      "cell_type": "code",
      "source": [
        "# Call object3 double method and pass output to called triple method, and assign output to x variable\n",
        "x = object3.double().triple()\n",
        "print(x)\n",
        "# This is an example of method chaining\n",
        "# Method chaining is simply being able to add .second_func() to whatever .first_func() returns\n",
        "# It is fairly easily implemented by ensuring that all chainable methods return self"
      ],
      "execution_count": 48,
      "outputs": [
        {
          "output_type": "stream",
          "text": [
            "96\n"
          ],
          "name": "stdout"
        }
      ]
    }
  ]
}